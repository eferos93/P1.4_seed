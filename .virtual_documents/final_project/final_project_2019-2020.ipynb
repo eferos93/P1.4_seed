get_ipython().run_line_magic("pylab", " inline")
import sympy as sym
import scipy
from scipy.interpolate import *
from scipy.integrate import *


# Step 1.1

def F(eta):
    """
    Derivative of f(eta)
    """
    return 2*eta*(eta-1)*(2*eta-1)


# Step 1.2

def compute_basis_functions(support_points, degree):
    basis_functions = []
    for i in range(len(support_points)):
        temp = support_points*0
        temp[i] = 1
        bi = PPoly.from_spline(splrep(support_points, temp, k=degree))
        basis_functions.append(bi)
    return basis_functions


# Step 1.3

def compute_global_quadrature(basis, n_gauss_quadrature_points):
    quad_points, weights = numpy.polynomial.legendre.leggauss(n_gauss_quadrature_points+1)  
    quad_points = (quad_points+1)/2
    weights /= 2
    # extract intervals
    intervals = unique(basis[0].x)
    # compute the first order difference points
    discr_difference = diff(intervals)
    discr_diff_length = len(discr_difference)
    
    gloabl_quadrature = array([intervals[i] + discr_difference[i] * quad_points
                               for i in range(discr_diff_length)]).reshape((-1,))
    global_weights = array([weights * discr_difference[i]
                            for i in range(discr_diff_length)]).reshape((-1,))
    return gloabl_quadrature, global_weights


# Step 1.4

def compute_system_matrices(basis, gloabl_quadrature, global_weights):
    n_basis_funct = len(basis)
    derivative_basis = []
    for i in range(n_basis_funct):
        derivative_basis.append(basis[i].derivative(1))
    basis_quad = array([basis[i](gloabl_quadrature)
                        for i in range(n_basis_funct)]).T
    derivative_basis_quad = array([derivative_basis[i](gloabl_quadrature)
                                   for i in range(n_basis_funct)]).T
    M = einsum('qi, q, qj', basis_quad, global_weights, basis_quad)
    K = einsum('qi, q, qj', derivative_basis_quad, global_weights, derivative_basis_quad)
    return M, K


# Step 2.1

def solve_allen_cahan(eta_0_function, eps, dt, ndofs, degree):
    '''
    Forward Euler solution.
    '''
    points = linspace(0, 1, ndofs)
    basis = compute_basis_functions(points, degree)
    Q, W = compute_global_quadrature(basis, degree+1)
    M, K = compute_system_matrices(basis, Q, W)
    A = M + (dt*eps**2)*K
    steps = int(1/dt)
    t_interval = [step*dt for step in range(steps + 1)]
    # matrix where the results will be stored
    eta = zeros((len(t_interval), ndofs))
    # setting the initial function 
    eta[0, :] = eta_k = eta_0_function(points)
    for t in range(1, len(t_interval)):
        b = M.dot((eta_k - dt*F(eta_k)))
        eta_k = linalg.solve(A, b)
        eta[t, :] = eta_k

    return eta, basis


# Step 2.2 

def plot_solution(eta, basis, stride, resolution):
    x = linspace(0, 1, resolution)
    B = zeros((resolution, len(basis)))
    for i in range(len(basis)):
        B[:,i] = basis[i](x)
       
    n_t = shape(eta)[0]
    t = ['t ='+str(round((i/(n_t-1)), 2)) for i in range(n_t)]
    for eta, label_t in zip(eta[::-stride], t[::-stride]):
        plot(x, eta.dot(B.T), label=label_t)

    _ = legend(fontsize='x-large')
    _ = title('Allen–Cahn equation $\eta(x,t)$')
    _ = xlabel('$x$')
    _ = ylabel('$\eta$')


#initial function choosen
def eta_0(x):
    return sin(2*pi*x)+1


figure(figsize=(20,6))
eta, basis = solve_allen_cahan(eta_0, eps=0.01, dt=0.1, ndofs=64, degree=1)
_= plot_solution(eta, basis, stride=3, resolution=1025)


def plot_increasing_eps(dt, degree, ndofs, eps):
    #eps = [.1, .01, .001]
    fig = figure(figsize=(20, 7))
    for i in range(len(eps)):
        eta, basis = solve_allen_cahan(eta_0, eps[i], dt, ndofs, degree)
        subplot(1,3,i+1)
        plot_solution(eta, basis, int(1/dt+1), 1024)
        xlabel('x')
        ylabel('$\eta$')  
        title('eps = '+ str(eps[i]))
        

def plot_increasing_ndofs(eps, degree, dt, ndofs):
    #ndofs = [16, 32, 64, 128]
    fig = figure(figsize=(22, 11))
    for i in range(len(ndofs)):
        eta, basis = solve_allen_cahan(eta_0, eps, dt, ndofs[i], degree)
        subplot(2, 2, i+1)
        plot_solution(eta, basis, int(1/dt+1), 1024)
        xlabel('x')
        ylabel('$\eta$')
        title('ndofs = '+ str(ndofs[i]))
    
    
    
def plot_increasing_degree(eps, degree, ndofs, dt):
    #dt = [.25, .125, .0625, .03125, .015625]
    fig = figure(figsize=(18,28))
    for i in range(len(degree)):
        eta, basis = solve_allen_cahan(eta_0, eps, dt, ndofs, degree[i])
        subplot(5,3,i+1)
        plot_solution(eta, basis, int(1/dt+1), 1024)
        xlabel('x')
        ylabel('$\eta$')  
        title('degree = '+str(degree[i]))

    
def plot_increasing_dt(eps, degree, ndofs, dt):
    #dt = [.25, .125, .0625, .03125, .015625]
    fig = figure(figsize=(18,28))
    for i in range(len(dt)):
        eta, basis = solve_allen_cahan(eta_0, eps, dt[i], ndofs, degree)
        subplot(5,3,i+1)
        plot_solution(eta, basis, int(1/dt[i]+1), 1024)
        xlabel('x')
        ylabel('$\eta$')  
        title('dt = '+ str(dt[i]))



resolution = 1024
eps = [.01, .001]
ndofs = [16, 32, 64, 128]
degree = [1, 2, 3]
dt = [.25, .125, .0625, .03125, .015625]

plot_increasing_eps(eps = eps, degree = 1, dt = 0.1, ndofs = 128)


plot_increasing_ndofs(eps = 0.01, degree = 1, dt = 0.1, ndofs=ndofs)


plot_increasing_degree(eps=0.01, degree=degree, ndofs=128, dt=0.1)


plot_increasing_dt(eps=0.01, degree=1, ndofs=128, dt=dt)


def solve_allen_cahan_Backward(eta_0_function, eps, dt, ndofs, degree):
    points = linspace(0, 1, ndofs)
    basis = compute_basis_functions(points, degree)
    Q, W = compute_global_quadrature(basis, degree+1)
    M, K = compute_system_matrices(basis, Q, W)
    A = M + (dt*eps**2)*K
    steps = int(1/dt)
    t_interval = [step*dt for step in range(steps + 1)]
    # matrix where the results will be stored
    eta = zeros((len(t_interval), ndofs))
    # setting the initial function 
    eta[0, :] = eta_k = eta_0_function(points)
    for t in range(1, len(t_interval)):
        eta_k = scipy.optimize.fsolve(
            lambda x: A.dot(x) - M.dot(eta_k) + dt*M.dot(F(x)),
            eta_k
        )
        eta[t, :] = eta_k

    return eta, basis


figure(figsize=(20,6))

plt.subplot(1, 2, 1)
eta, basis = solve_allen_cahan_Backward(eta_0, eps=0.01, dt=0.25, ndofs=64, degree=1)
_ = plot_solution(eta, basis, stride=2, resolution=1025)
_ = title("Backward Euler Solution")

plt.subplot(1, 2, 2)
eta, basis = solve_allen_cahan(eta_0, eps=0.01, dt=0.25, ndofs=64, degree=1)
_ = plot_solution(eta, basis, stride=2, resolution=1025)
_ = title("Forward Euler Solution")
