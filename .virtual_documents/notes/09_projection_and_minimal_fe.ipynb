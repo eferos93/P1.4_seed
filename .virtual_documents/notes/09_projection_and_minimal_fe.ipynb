get_ipython().run_line_magic("pylab", " inline")
import scipy
from scipy.interpolate import *
from scipy.integrate import *


# Runge function
def myfun(x):
    return 1/(1+50*(x-.5)**2)


N = 1025
M = 11

x = linspace(0,1, N)
q = linspace(0,1, M)
degree = 1


yq = myfun(q)


B = zeros((N,M))
dB = zeros((N,M))

basis = []
dbasis = []

for i in range(M):
    c = q*0
    c[i] = 1
    bi = PPoly.from_spline(splrep(q,c,k=degree))

    B[:,i] = bi(x)
    dB[:,i] = bi.derivative(1)(x)
    
    basis.append(bi)
    dbasis.append(bi.derivative(1))
_ = plot(x,B)


# This can be used to compute the piecewise polynomial interpolation of our function

plot(x, myfun(x))
plot(q, yq, 'ro')
plot(x, B.dot(myfun(q)))


# Now let's compute the least square approximation of `myfun` on all points `x`
# This is the same as computing the L2 projection when we approximate the integral by sum(1/N*f(x_i))

BtB = B.T.dot(B)
pL2 = linalg.solve(BtB, B.T.dot(myfun(x)))


# Let's plot the approximated function, together with the interpolation

plot(x, myfun(x))
plot(x, B.dot(myfun(q)))
plot(x, B.dot(pL2))
plot(q, myfun(q), 'ro')
plot(q, pL2, 'go')


A = dB.T.dot(dB)+B.T.dot(B)


# the constant one: the solution is one.
rhs = B.T.dot(x*0+1)
u = linalg.solve(A, rhs)


plot(x, B.dot(u))


# Now test with f = x

rhs = B.T.dot(x)
u = linalg.solve(A, rhs)
_ = plot(x, B.dot(u))


# We expect the derivatives in 0 and 1 to be zero. There is an error here, that should decrease increasing M, 
# or integrating the matrices and the right hand side using Gauss quadrature rules (or both!).
dB.dot(u)[[0,-1]]


# Make sure every interval border is taken only once
intervals = unique(basis[0].x)

# and make sure we can integrate exactly the product of two basis functions
qp, w = numpy.polynomial.legendre.leggauss(degree+1)

# Rescale the points and weights to work from zero to one
qp = (qp+1)/2
w /= 2

# Now replicate these points and weights in all the intervals
h = diff(intervals)
Q = array([intervals[i]+h[i]*qp for i in range(len(h))]).reshape((-1,))
W = array([w*h[i] for i in range(len(h))]).reshape((-1,))


# Check that we can integrate exactly x**(2*degree):
error = ((Q**(2*degree)).T.dot(W) - 1/(2*degree+1))
error


Bq = array([basis[i](Q) for i in range(M)]).T
dBq = array([dbasis[i](Q) for i in range(M)]).T


M = einsum('qi, q, qj', Bq, W, Bq)
K = einsum('qi, q, qj', dBq, W, dBq)

A = M+K


# Compute the same problem as before using the new way to compute integrals

rhs = einsum('qi, q, q', Bq, W, Q)
u = linalg.solve(A, rhs)

plot(x, B.dot(u))


# As we see, computing the integrals exactly does not change too much the result. You'll see that running 
# everything with higher M or higher degree makes the result a bit closer to what you should get theoretically
dB.dot(u)[[0,-1]]
